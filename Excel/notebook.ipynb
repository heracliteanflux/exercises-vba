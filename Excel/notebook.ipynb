{
 "cells": [
  {
   "attachments": {},
   "cell_type": "markdown",
   "metadata": {},
   "source": [
    "# An exercise in Excel"
   ]
  },
  {
   "attachments": {},
   "cell_type": "markdown",
   "metadata": {},
   "source": [
    "---"
   ]
  },
  {
   "attachments": {},
   "cell_type": "markdown",
   "metadata": {},
   "source": [
    "## Kickstarter"
   ]
  },
  {
   "attachments": {},
   "cell_type": "markdown",
   "metadata": {},
   "source": [
    "Shape: $4115\\times21$"
   ]
  },
  {
   "cell_type": "markdown",
   "metadata": {},
   "source": [
    "Column | Label | Formula\n",
    "-|-|-\n",
    "A | id |\n",
    "B | name |\n",
    "C | blurb |\n",
    "D | goal | (how much money each campaign needed to succeed)\n",
    "E | pledged | (how much money each campaign actually has)\n",
    "F | outcomes | (whether the campaign met its goal) [canceled (yellow), failed (red), live (blue), successful (green)]\n",
    "G | country | (the country in which the campaign began)\n",
    "H | currency |\n",
    "I | deadline |\n",
    "J | launched_at |\n",
    "K | staff_pick |\n",
    "L | backers_count |\n",
    "M | spotlight |\n",
    "N | Category and Subcategory |\n",
    "O | Percentage Funded | `=ROUND(E2/D2*100,0)`\n",
    "P | Average Donation | `=IFERROR(ROUND(E2/L2,2),0)`\n",
    "Q | Parent Category |\n",
    "R | Subcategory |\n",
    "S | Date Created Conversion | `=(((J2/60)/60)/24)+DATE(1970,1,1)`\n",
    "T | Date Ended Conversion | `=(((I2/60)/60)/24)+DATE(1970,1,1)`\n",
    "U | Years | `=YEAR(S2)`"
   ]
  },
  {
   "attachments": {},
   "cell_type": "markdown",
   "metadata": {},
   "source": [
    "![](img/0.png)"
   ]
  },
  {
   "attachments": {},
   "cell_type": "markdown",
   "metadata": {},
   "source": [
    "---"
   ]
  },
  {
   "attachments": {},
   "cell_type": "markdown",
   "metadata": {},
   "source": [
    "## Category Statistics"
   ]
  },
  {
   "attachments": {},
   "cell_type": "markdown",
   "metadata": {},
   "source": [
    "![](img/1.png)"
   ]
  },
  {
   "attachments": {},
   "cell_type": "markdown",
   "metadata": {},
   "source": [
    "---"
   ]
  },
  {
   "attachments": {},
   "cell_type": "markdown",
   "metadata": {},
   "source": [
    "## Subcategory Statistics"
   ]
  },
  {
   "attachments": {},
   "cell_type": "markdown",
   "metadata": {},
   "source": [
    "![](img/2.png)"
   ]
  },
  {
   "attachments": {},
   "cell_type": "markdown",
   "metadata": {},
   "source": [
    "---"
   ]
  },
  {
   "attachments": {},
   "cell_type": "markdown",
   "metadata": {},
   "source": [
    "## Outcome Based on Launch Date"
   ]
  },
  {
   "attachments": {},
   "cell_type": "markdown",
   "metadata": {},
   "source": [
    "![](img/3.png)"
   ]
  },
  {
   "attachments": {},
   "cell_type": "markdown",
   "metadata": {},
   "source": [
    "---"
   ]
  },
  {
   "attachments": {},
   "cell_type": "markdown",
   "metadata": {},
   "source": [
    "## Edinburgh Research"
   ]
  },
  {
   "attachments": {},
   "cell_type": "markdown",
   "metadata": {},
   "source": [
    "Shape: $6\\times6$"
   ]
  },
  {
   "attachments": {},
   "cell_type": "markdown",
   "metadata": {},
   "source": [
    "Column | Label | Formula\n",
    "-|-|-\n",
    "A | Name |\n",
    "B | blurb | `=VLOOKUP(A2,Kickstarter!B:E,2,FALSE)`\n",
    "C | Goal | `=VLOOKUP(A2,Kickstarter!B:E,3,FALSE)`\n",
    "D | Pledged | `=VLOOKUP(A2,Kickstarter!B:E,4,FALSE)`\n",
    "E | Average Donation | `=VLOOKUP(A2,Kickstarter!B:P,15,FALSE)`\n",
    "F | Backers | `=VLOOKUP(A2,Kickstarter!B:P,15,FALSE)`"
   ]
  },
  {
   "attachments": {},
   "cell_type": "markdown",
   "metadata": {},
   "source": [
    "![](img/4.png)"
   ]
  },
  {
   "attachments": {},
   "cell_type": "markdown",
   "metadata": {},
   "source": [
    "---"
   ]
  },
  {
   "attachments": {},
   "cell_type": "markdown",
   "metadata": {},
   "source": [
    "## Successful US Kickstarters"
   ]
  },
  {
   "attachments": {},
   "cell_type": "markdown",
   "metadata": {},
   "source": [
    "Shape: $413\\times20$"
   ]
  },
  {
   "attachments": {},
   "cell_type": "markdown",
   "metadata": {},
   "source": [
    "![](img/5.png)"
   ]
  },
  {
   "attachments": {},
   "cell_type": "markdown",
   "metadata": {},
   "source": [
    "---"
   ]
  },
  {
   "attachments": {},
   "cell_type": "markdown",
   "metadata": {},
   "source": [
    "## Failed US Kickstarters"
   ]
  },
  {
   "attachments": {},
   "cell_type": "markdown",
   "metadata": {},
   "source": [
    "Shape: $251\\times20$"
   ]
  },
  {
   "attachments": {},
   "cell_type": "markdown",
   "metadata": {},
   "source": [
    "![](img/6.png)"
   ]
  },
  {
   "attachments": {},
   "cell_type": "markdown",
   "metadata": {},
   "source": [
    "---"
   ]
  },
  {
   "attachments": {},
   "cell_type": "markdown",
   "metadata": {},
   "source": [
    "## Descriptive Statistics"
   ]
  },
  {
   "attachments": {},
   "cell_type": "markdown",
   "metadata": {},
   "source": [
    "Shape: $14\\times3$"
   ]
  },
  {
   "attachments": {},
   "cell_type": "markdown",
   "metadata": {},
   "source": [
    "Cell | Col | Row | Formula\n",
    "-|-|-|-\n",
    "B2 | Successful | Mean Goal | `=AVERAGE('Successful US Kickstarters'!D:D)`\n",
    "B3 | Successful | Median Goal | ``=MEDIAN('Successful US Kickstarters'!D:D)``\n",
    "B4 | Successful | Standard Deviation of Goal | `=STDEV.P('Successful US Kickstarters'!D:D)`\n",
    "B5 | Successful | Upper Quartile of Goal | `=QUARTILE.EXC('Successful US Kickstarters'!D:D,3)`\n",
    "B6 | Successful | Lower Quartile of Goal | `=QUARTILE.EXC('Successful US Kickstarters'!D:D,1)`\n",
    "B7 | Successful | IQR of Goal | `=B5-B6`\n",
    "B9 | Successful | Mean Goal | `=AVERAGE('Successful US Kickstarters'!E:E)`\n",
    "B10 | Successful | Median Goal | ``=MEDIAN('Successful US Kickstarters'!E:E)``\n",
    "B11 | Successful | Standard Deviation of Goal | `=STDEV.P('Successful US Kickstarters'!E:E)`\n",
    "B12 | Successful | Upper Quartile of Goal | `=QUARTILE.EXC('Successful US Kickstarters'!E:E,3)`\n",
    "B13 | Successful | Lower Quartile of Goal | `=QUARTILE.EXC('Successful US Kickstarters'!E:E,1)`\n",
    "B14 | Successful | IQR of Goal | `=B12-B13`\n",
    "C2 | Failed | Mean Goal | `=AVERAGE('Failed US Kickstarters'!D:D)`\n",
    "C3 | Failed | Median Goal | ``=MEDIAN('Failed US Kickstarters'!D:D)``\n",
    "C4 | Failed | Standard Deviation of Goal | `=STDEV.P('Failed US Kickstarters'!D:D)`\n",
    "C5 | Failed | Upper Quartile of Goal | `=QUARTILE.EXC('Failed US Kickstarters'!D:D,3)`\n",
    "C6 | Failed | Lower Quartile of Goal | `=QUARTILE.EXC('Failed US Kickstarters'!D:D,1)`\n",
    "C7 | Failed | IQR of Goal | `=C5-C6`\n",
    "C9 | Failed | Mean Goal | `=AVERAGE('Failed US Kickstarters'!E:E)`\n",
    "C10 | Failed | Median Goal | ``=MEDIAN('Failed US Kickstarters'!E:E)``\n",
    "C11 | Failed | Standard Deviation of Goal | `=STDEV.P('Failed US Kickstarters'!E:E)`\n",
    "C12 | Failed | Upper Quartile of Goal | `=QUARTILE.EXC('Failed US Kickstarters'!E:E,3)`\n",
    "C13 | Failed | Lower Quartile of Goal | `=QUARTILE.EXC('Failed US Kickstarters'!E:E,1)`\n",
    "C14 | Failed | IQR of Goal | `=C12-C13`"
   ]
  },
  {
   "attachments": {},
   "cell_type": "markdown",
   "metadata": {},
   "source": [
    "![](img/7.png)"
   ]
  },
  {
   "attachments": {},
   "cell_type": "markdown",
   "metadata": {},
   "source": [
    "---"
   ]
  },
  {
   "attachments": {},
   "cell_type": "markdown",
   "metadata": {},
   "source": [
    "## Box Plot"
   ]
  },
  {
   "attachments": {},
   "cell_type": "markdown",
   "metadata": {},
   "source": [
    "---"
   ]
  },
  {
   "attachments": {},
   "cell_type": "markdown",
   "metadata": {},
   "source": [
    "## Theater Outcomes by Launch Date"
   ]
  },
  {
   "attachments": {},
   "cell_type": "markdown",
   "metadata": {},
   "source": [
    "![](img/8.png)"
   ]
  },
  {
   "attachments": {},
   "cell_type": "markdown",
   "metadata": {},
   "source": [
    "---"
   ]
  },
  {
   "attachments": {},
   "cell_type": "markdown",
   "metadata": {},
   "source": [
    "## Outcomes Based on Goals"
   ]
  },
  {
   "attachments": {},
   "cell_type": "markdown",
   "metadata": {},
   "source": [
    "Shape: $13\\times8$"
   ]
  },
  {
   "attachments": {},
   "cell_type": "markdown",
   "metadata": {},
   "source": [
    "````{tab-set}\n",
    "```{tab-item} R2\n",
    "Cell | Formula\n",
    "-|-\n",
    "B2 | `=COUNTIFS(Kickstarter!$F:$F,\"=successful\",Kickstarter!$D:$D,\"<1000\",Kickstarter!$R:$R,\"=plays\")`\n",
    "C2 | `=COUNTIFS(Kickstarter!$F:$F,\"=failed\",Kickstarter!$D:$D,\"<1000\",Kickstarter!$R:$R,\"=plays\")`\n",
    "D2 | `=COUNTIFS(Kickstarter!$F:$F,\"=canceled\",Kickstarter!$D:$D,\"<1000\",Kickstarter!$R:$R,\"=plays\")`\n",
    "```\n",
    "```{tab-item} R3\n",
    "Cell | Formula\n",
    "-|-\n",
    "B3 | `=COUNTIFS(Kickstarter!$F:$F,\"=successful\",Kickstarter!$D:$D,\">=1000\",Kickstarter!$D:$D,\"<=4999\",Kickstarter!$R:$R,\"=plays\")`\n",
    "C3 | `=COUNTIFS(Kickstarter!$F:$F,\"=failed\",Kickstarter!$D:$D,\">=1000\",Kickstarter!$D:$D,\"<=4999\",Kickstarter!$R:$R,\"=plays\")`\n",
    "D3 | `=COUNTIFS(Kickstarter!$F:$F,\"=canceled\",Kickstarter!$D:$D,\">=1000\",Kickstarter!$D:$D,\"<=4999\",Kickstarter!$R:$R,\"=plays\")`\n",
    "```\n",
    "```{tab-item} R4\n",
    "Cell | Formula\n",
    "-|-\n",
    "B4 | `=COUNTIFS(Kickstarter!$F:$F,\"=successful\",Kickstarter!$D:$D,\">=5000\",Kickstarter!$D:$D,\"<=9999\",Kickstarter!$R:$R,\"=plays\")`\n",
    "C4 | `=COUNTIFS(Kickstarter!$F:$F,\"=failed\",Kickstarter!$D:$D,\">=5000\",Kickstarter!$D:$D,\"<=9999\",Kickstarter!$R:$R,\"=plays\")`\n",
    "D4 | `=COUNTIFS(Kickstarter!$F:$F,\"=canceled\",Kickstarter!$D:$D,\">=5000\",Kickstarter!$D:$D,\"<=9999\",Kickstarter!$R:$R,\"=plays\")`\n",
    "```\n",
    "```{tab-item} R5\n",
    "Cell | Formula\n",
    "-|-\n",
    "B5 | `=COUNTIFS(Kickstarter!$F:$F,\"=successful\",Kickstarter!$D:$D,\">=10000\",Kickstarter!$D:$D,\"<=14999\",Kickstarter!$R:$R,\"=plays\")`\n",
    "C5 | `=COUNTIFS(Kickstarter!$F:$F,\"=failed\",Kickstarter!$D:$D,\">=10000\",Kickstarter!$D:$D,\"<=14999\",Kickstarter!$R:$R,\"=plays\")`\n",
    "D5 | `=COUNTIFS(Kickstarter!$F:$F,\"=canceled\",Kickstarter!$D:$D,\">=10000\",Kickstarter!$D:$D,\"<=14999\",Kickstarter!$R:$R,\"=plays\")`\n",
    "```\n",
    "```{tab-item} R6\n",
    "Cell | Formula\n",
    "-|-\n",
    "B6 | `=COUNTIFS(Kickstarter!$F:$F,\"=successful\",Kickstarter!$D:$D,\">=15000\",Kickstarter!$D:$D,\"<=19999\",Kickstarter!$R:$R,\"=plays\")`\n",
    "C6 | `=COUNTIFS(Kickstarter!$F:$F,\"=failed\",Kickstarter!$D:$D,\">=15000\",Kickstarter!$D:$D,\"<=19999\",Kickstarter!$R:$R,\"=plays\")`\n",
    "D6 | `=COUNTIFS(Kickstarter!$F:$F,\"=canceled\",Kickstarter!$D:$D,\">=15000\",Kickstarter!$D:$D,\"<=19999\",Kickstarter!$R:$R,\"=plays\")`\n",
    "```\n",
    "```{tab-item} R7\n",
    "Cell | Formula\n",
    "-|-\n",
    "B7 | `=COUNTIFS(Kickstarter!$F:$F,\"=successful\",Kickstarter!$D:$D,\">=20000\",Kickstarter!$D:$D,\"<=24999\",Kickstarter!$R:$R,\"=plays\")`\n",
    "C7 | `=COUNTIFS(Kickstarter!$F:$F,\"=failed\",Kickstarter!$D:$D,\">=20000\",Kickstarter!$D:$D,\"<=24999\",Kickstarter!$R:$R,\"=plays\")`\n",
    "D7 | `=COUNTIFS(Kickstarter!$F:$F,\"=canceled\",Kickstarter!$D:$D,\">=20000\",Kickstarter!$D:$D,\"<=24999\",Kickstarter!$R:$R,\"=plays\")`\n",
    "```\n",
    "```{tab-item} R8\n",
    "Cell | Formula\n",
    "-|-\n",
    "B8 | `=COUNTIFS(Kickstarter!$F:$F,\"=successful\",Kickstarter!$D:$D,\">=25000\",Kickstarter!$D:$D,\"<=29999\",Kickstarter!$R:$R,\"=plays\")`\n",
    "C8 | `=COUNTIFS(Kickstarter!$F:$F,\"=failed\",Kickstarter!$D:$D,\">=25000\",Kickstarter!$D:$D,\"<=29999\",Kickstarter!$R:$R,\"=plays\")`\n",
    "D8 | `=COUNTIFS(Kickstarter!$F:$F,\"=canceled\",Kickstarter!$D:$D,\">=25000\",Kickstarter!$D:$D,\"<=29999\",Kickstarter!$R:$R,\"=plays\")`\n",
    "```\n",
    "```{tab-item} R9\n",
    "Cell | Formula\n",
    "-|-\n",
    "B9 | `=COUNTIFS(Kickstarter!$F:$F,\"=successful\",Kickstarter!$D:$D,\">=30000\",Kickstarter!$D:$D,\"<=34999\",Kickstarter!$R:$R,\"=plays\")`\n",
    "C9 | `=COUNTIFS(Kickstarter!$F:$F,\"=failed\",Kickstarter!$D:$D,\">=30000\",Kickstarter!$D:$D,\"<=34999\",Kickstarter!$R:$R,\"=plays\")`\n",
    "D9 | `=COUNTIFS(Kickstarter!$F:$F,\"=canceled\",Kickstarter!$D:$D,\">=30000\",Kickstarter!$D:$D,\"<=34999\",Kickstarter!$R:$R,\"=plays\")`\n",
    "```\n",
    "```{tab-item} R10\n",
    "Cell | Formula\n",
    "-|-\n",
    "B10 | `=COUNTIFS(Kickstarter!$F:$F,\"=successful\",Kickstarter!$D:$D,\">=35000\",Kickstarter!$D:$D,\"<=39999\",Kickstarter!$R:$R,\"=plays\")`\n",
    "C10 | `=COUNTIFS(Kickstarter!$F:$F,\"=failed\",Kickstarter!$D:$D,\">=35000\",Kickstarter!$D:$D,\"<=39999\",Kickstarter!$R:$R,\"=plays\")`\n",
    "D10 | `=COUNTIFS(Kickstarter!$F:$F,\"=canceled\",Kickstarter!$D:$D,\">=35000\",Kickstarter!$D:$D,\"<=39999\",Kickstarter!$R:$R,\"=plays\")`\n",
    "```\n",
    "```{tab-item} R11\n",
    "Cell | Formula\n",
    "-|-\n",
    "B11 | `=COUNTIFS(Kickstarter!$F:$F,\"=successful\",Kickstarter!$D:$D,\">=40000\",Kickstarter!$D:$D,\"<=44999\",Kickstarter!$R:$R,\"=plays\")`\n",
    "C11 | `=COUNTIFS(Kickstarter!$F:$F,\"=failed\",Kickstarter!$D:$D,\">=40000\",Kickstarter!$D:$D,\"<=44999\",Kickstarter!$R:$R,\"=plays\")`\n",
    "D11 | `=COUNTIFS(Kickstarter!$F:$F,\"=canceled\",Kickstarter!$D:$D,\">=40000\",Kickstarter!$D:$D,\"<=44999\",Kickstarter!$R:$R,\"=plays\")`\n",
    "```\n",
    "```{tab-item} R12\n",
    "Cell | Formula\n",
    "-|-\n",
    "B12 | `=COUNTIFS(Kickstarter!$F:$F,\"=successful\",Kickstarter!$D:$D,\">=45000\",Kickstarter!$D:$D,\"<=49999\",Kickstarter!$R:$R,\"=plays\")`\n",
    "C12 | `=COUNTIFS(Kickstarter!$F:$F,\"=failed\",Kickstarter!$D:$D,\">=45000\",Kickstarter!$D:$D,\"<=49999\",Kickstarter!$R:$R,\"=plays\")`\n",
    "D12 | `=COUNTIFS(Kickstarter!$F:$F,\"=canceled\",Kickstarter!$D:$D,\">=45000\",Kickstarter!$D:$D,\"<=49999\",Kickstarter!$R:$R,\"=plays\")`\n",
    "```\n",
    "```{tab-item} R13\n",
    "Cell | Formula\n",
    "-|-\n",
    "B13 | `=COUNTIFS(Kickstarter!$F:$F,\"=successful\",Kickstarter!$D:$D,\">=50000\",Kickstarter!$R:$R,\"=plays\")`\n",
    "C13 | `=COUNTIFS(Kickstarter!$F:$F,\"=failed\",Kickstarter!$D:$D,\">=50000\",Kickstarter!$R:$R,\"=plays\")`\n",
    "D13 | `=COUNTIFS(Kickstarter!$F:$F,\"=canceled\",Kickstarter!$D:$D,\">=50000\",Kickstarter!$R:$R,\"=plays\")`\n",
    "```\n",
    "````\n",
    "\n",
    "Column | Label | Formula\n",
    "-|-|-\n",
    "E2 | Total Projects | `=SUM(B2:D2)`\n",
    "F2 | Percentage Successful | `=ROUND(B2/E2,2)`\n",
    "G2 | Percentage Failed | `=ROUND(C2/E2,2)`\n",
    "H2 | Percentage Canceled | `=ROUND(D2/E2,2)`"
   ]
  },
  {
   "attachments": {},
   "cell_type": "markdown",
   "metadata": {},
   "source": [
    "![](img/9.png)"
   ]
  },
  {
   "attachments": {},
   "cell_type": "markdown",
   "metadata": {},
   "source": [
    "---"
   ]
  }
 ],
 "metadata": {
  "kernelspec": {
   "display_name": "main",
   "language": "python",
   "name": "python3"
  },
  "language_info": {
   "codemirror_mode": {
    "name": "ipython",
    "version": 3
   },
   "file_extension": ".py",
   "mimetype": "text/x-python",
   "name": "python",
   "nbconvert_exporter": "python",
   "pygments_lexer": "ipython3",
   "version": "3.10.8"
  },
  "orig_nbformat": 4
 },
 "nbformat": 4,
 "nbformat_minor": 2
}
